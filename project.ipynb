{
  "cells": [
    {
      "cell_type": "markdown",
      "metadata": {
        "id": "Md413FzAvFD8"
      },
      "source": [
        "# DX 704 Week 7 Project\n",
        "\n",
        "This week's project will investigate issues in a quadcopter controller based using a linear quadratic regulator.\n",
        "You will start with an existing model of the system and logs from a quadcopter based on it, investigate discrepancies, and ultimately train a new model of the system dynamics."
      ]
    },
    {
      "cell_type": "markdown",
      "metadata": {
        "id": "PTIhFidP-KvD"
      },
      "source": [
        "The full project description and a template notebook are available on GitHub: [Project 7 Materials](https://github.com/bu-cds-dx704/dx704-project-07).\n"
      ]
    },
    {
      "cell_type": "markdown",
      "metadata": {
        "id": "52eGFDLZdsBy"
      },
      "source": [
        "## Example Code\n",
        "\n",
        "You may find it helpful to refer to these GitHub repositories of Jupyter notebooks for example code.\n",
        "\n",
        "* https://github.com/bu-cds-omds/dx601-examples\n",
        "* https://github.com/bu-cds-omds/dx602-examples\n",
        "* https://github.com/bu-cds-omds/dx603-examples\n",
        "* https://github.com/bu-cds-omds/dx704-examples\n",
        "\n",
        "Any calculations demonstrated in code examples or videos may be found in these notebooks, and you are allowed to copy this example code in your homework answers."
      ]
    },
    {
      "cell_type": "markdown",
      "metadata": {
        "id": "d7IKpQFK_AGF"
      },
      "source": [
        "## Introduction\n",
        "\n",
        "You've just joined a drone startup.\n",
        "On your first day, you join your new team to watch a test flight for a new quadcopter prototype.\n",
        "Watching the prototype fly, the team comments that it is not as smooth as usual and suspects that something is off in the controller.\n",
        "They provide you a copy of the dynamics model and log data from the prototype to investigate."
      ]
    },
    {
      "cell_type": "markdown",
      "metadata": {
        "id": "_Ks7EK6h3ktC"
      },
      "source": [
        "The quadcopter control model is a slightly more sophisticated version of the 1D quadcopter problem previously considered.\n",
        "\n",
        "The state vector $\\mathbf{x}_t$ now includes an acceleration component, and the action vector now has a servo control for the throttle instead of a raw force component.\n",
        "\\begin{array}{rcl}\n",
        "\\mathbf{x}_t & = & \\begin{bmatrix} x_t \\\\ v_t \\\\ a_t \\end{bmatrix} \\\\\n",
        "\\mathbf{u_t} & = & \\begin{bmatrix} u_t \\end{bmatrix}\n",
        "\\end{array}"
      ]
    },
    {
      "cell_type": "markdown",
      "metadata": {
        "id": "C8oSLkMqvMFF"
      },
      "source": [
        "## Part 1: Reconstruct the Control Matrix\n",
        "\n",
        "You are provided the dynamics model in the files `model-A.tsv`, `model-B.tsv`, `cost-Q.tsv` and `cost-R.tsv`.\n",
        "Recompute the control matrix $\\mathbf{K}$ to be used in the infinite horizon linear quadratic regulator problem."
      ]
    },
    {
      "cell_type": "code",
      "execution_count": 1,
      "metadata": {
        "id": "Pdpurx_Ym3F6"
      },
      "outputs": [
        {
          "data": {
            "text/plain": [
              "{'A': (3, 3), 'B': (3, 1), 'Q': (3, 3), 'R': (1, 1), 'K': (1, 3)}"
            ]
          },
          "execution_count": 1,
          "metadata": {},
          "output_type": "execute_result"
        }
      ],
      "source": [
        "# YOUR CHANGES HERE\n",
        "\n",
        "import numpy as np\n",
        "import pandas as pd\n",
        "\n",
        "try:\n",
        "    from scipy.linalg import solve_discrete_are\n",
        "    _HAS_SCIPY = True\n",
        "except Exception:\n",
        "    _HAS_SCIPY = False\n",
        "\n",
        "def robust_load_tsv_matrix(path):\n",
        "    # Try reading with header=None first\n",
        "    df = pd.read_csv(path, sep=\"\\t\")\n",
        "    # If there's an 'index' or unnamed first column that looks like an index, drop it\n",
        "    possible_index_cols = [c for c in df.columns if str(c).lower() in (\"index\", \"unnamed: 0\", \"\")]\n",
        "    if possible_index_cols:\n",
        "        df = df.drop(columns=possible_index_cols)\n",
        "    # Convert everything to numeric where possible\n",
        "    for c in df.columns:\n",
        "        df[c] = pd.to_numeric(df[c], errors=\"coerce\")\n",
        "    # Drop rows/cols that are fully NaN (in case of trailing tabs)\n",
        "    df = df.dropna(axis=0, how=\"all\").dropna(axis=1, how=\"all\")\n",
        "    values = df.values.astype(float)\n",
        "    return values\n",
        "\n",
        "A = robust_load_tsv_matrix(\"model-A.tsv\")\n",
        "B = robust_load_tsv_matrix(\"model-B.tsv\")\n",
        "Q = robust_load_tsv_matrix(\"cost-Q.tsv\")\n",
        "R = robust_load_tsv_matrix(\"cost-R.tsv\")\n",
        "\n",
        "# Validate shapes\n",
        "n = A.shape[0]\n",
        "assert A.shape[0] == A.shape[1], f\"A must be square, got {A.shape}\"\n",
        "assert B.shape[0] == n, f\"B rows must match A, got {B.shape} vs A {A.shape}\"\n",
        "assert Q.shape == (n, n), f\"Q must be {n}x{n}, got {Q.shape}\"\n",
        "assert R.shape[0] == R.shape[1], f\"R must be square, got {R.shape}\"\n",
        "\n",
        "# Solve DARE and compute K\n",
        "if _HAS_SCIPY:\n",
        "    P = solve_discrete_are(A, B, Q, R)\n",
        "else:\n",
        "    P = Q.copy()\n",
        "    for _ in range(20000):\n",
        "        BtPB = B.T @ P @ B\n",
        "        inv = np.linalg.inv(R + BtPB)\n",
        "        P_next = A.T @ P @ A - A.T @ P @ B @ inv @ B.T @ P @ A + Q\n",
        "        if np.allclose(P_next, P, atol=1e-12, rtol=1e-12):\n",
        "            break\n",
        "        P = P_next\n",
        "\n",
        "K = np.linalg.inv(B.T @ P @ B + R) @ (B.T @ P @ A)\n",
        "\n",
        "\n",
        "\n",
        "shapes = {\n",
        "    \"A\": A.shape,\n",
        "    \"B\": B.shape,\n",
        "    \"Q\": Q.shape,\n",
        "    \"R\": R.shape,\n",
        "    \"K\": K.shape,\n",
        "}\n",
        "shapes"
      ]
    },
    {
      "cell_type": "markdown",
      "metadata": {
        "id": "BDS1s6W9m5G1"
      },
      "source": [
        "Save $\\mathbf{K}$ in a file \"control-K-intended.tsv\" with columns x, v and a."
      ]
    },
    {
      "cell_type": "code",
      "execution_count": 3,
      "metadata": {
        "id": "heCP8JhgnEIC"
      },
      "outputs": [
        {
          "data": {
            "text/plain": [
              "'control-K-intended.tsv'"
            ]
          },
          "execution_count": 3,
          "metadata": {},
          "output_type": "execute_result"
        }
      ],
      "source": [
        "# YOUR CHANGES HERE\n",
        "\n",
        "# Save K and display\n",
        "K_df = pd.DataFrame(K)\n",
        "K_df_named = K_df.copy()\n",
        "K_df_named.columns = [\"x\", \"v\", \"a\"]\n",
        "\n",
        "K_intended_path = \"control-K-intended.tsv\"\n",
        "K_df_named.to_csv(K_intended_path, sep=\"\\t\", index=False)\n",
        "\n",
        "K_intended_path\n"
      ]
    },
    {
      "cell_type": "markdown",
      "metadata": {
        "id": "emwSwtKjnG8y"
      },
      "source": [
        "Submit \"control-K-intended.tsv\" in Gradescope."
      ]
    },
    {
      "cell_type": "markdown",
      "metadata": {
        "id": "fqbtALHx_z7l"
      },
      "source": [
        "## Part 2: Recompute the Actions for the Logged States\n",
        "\n",
        "You get access to the log data for the prototype as the file \"qc-log.tsv\".\n",
        "It conveniently saves all the state and actions made.\n",
        "Recompute the actions based on your $\\mathbf{K}$ matrix computed in part 1."
      ]
    },
    {
      "cell_type": "code",
      "execution_count": 4,
      "metadata": {
        "id": "DsbCg2TjoFpp"
      },
      "outputs": [
        {
          "data": {
            "text/plain": [
              "['index', 'x', 'v', 'a', 'u']"
            ]
          },
          "execution_count": 4,
          "metadata": {},
          "output_type": "execute_result"
        }
      ],
      "source": [
        "# YOUR CHANGES HERE\n",
        "\n",
        "qc_log = pd.read_csv(\"qc-log.tsv\", sep=\"\\t\")\n",
        "\n",
        "qc_log.columns.tolist()"
      ]
    },
    {
      "cell_type": "markdown",
      "metadata": {
        "id": "6Z2gHEGBoIjL"
      },
      "source": [
        "Save your computed actions as \"qc-check.tsv\" with columns \"index\" and \"u_check\"."
      ]
    },
    {
      "cell_type": "code",
      "execution_count": 5,
      "metadata": {
        "id": "vbyMYtMLoS72"
      },
      "outputs": [
        {
          "data": {
            "text/plain": [
              "'qc-check.tsv'"
            ]
          },
          "execution_count": 5,
          "metadata": {},
          "output_type": "execute_result"
        }
      ],
      "source": [
        "# YOUR CHANGES HERE\n",
        "\n",
        "\n",
        "K_df_named = pd.read_csv(\"control-K-intended.tsv\", sep=\"\\t\")\n",
        "K_vec = K_df_named.iloc[0].values.reshape(1, -1)  \n",
        "\n",
        "X = qc_log[[\"x\", \"v\", \"a\"]].values.T  \n",
        "u_check = -(K_vec @ X).flatten()\n",
        "\n",
        "qc_check = pd.DataFrame({\n",
        "    \"index\": qc_log[\"index\"],\n",
        "    \"u_check\": u_check\n",
        "})\n",
        "\n",
        "qc_check_path = \"qc-check.tsv\"\n",
        "qc_check.to_csv(qc_check_path, sep=\"\\t\", index=False)\n",
        "\n",
        "\n",
        "qc_check_path"
      ]
    },
    {
      "cell_type": "markdown",
      "metadata": {
        "id": "PDCUyNOfoUzm"
      },
      "source": [
        "Submit \"qc-check.tsv\" in Gradescope."
      ]
    },
    {
      "cell_type": "markdown",
      "metadata": {
        "id": "7Z20uZNHABA-"
      },
      "source": [
        "## Part 3: Reverse Engineer the Actual Control Matrix\n",
        "\n",
        "Now that you have found a systematic difference between your computed actions and the logged actions, estimate $\n",
        "$, the control matrix that was actually used to choose actions in the prototype."
      ]
    },
    {
      "cell_type": "markdown",
      "metadata": {
        "id": "lGoHdtel2iVm"
      },
      "source": [
        "Hint: With a linear quadratic regulator, the optimal actions are always linear combinations of the state that are calculated using the control matrix.\n",
        "You can use linear regression to reverse-engineer the coefficients in the control matrix."
      ]
    },
    {
      "cell_type": "code",
      "execution_count": 6,
      "metadata": {
        "id": "Ab7XnMej21RN"
      },
      "outputs": [],
      "source": [
        "# YOUR CHANGES HERE\n",
        "\n",
        "from sklearn.linear_model import LinearRegression\n",
        "\n",
        "X = qc_log[[\"x\", \"v\", \"a\"]].values\n",
        "u_actual = qc_log[\"u\"].values\n",
        "\n",
        "model = LinearRegression(fit_intercept=False)\n",
        "model.fit(X, -u_actual) \n",
        "\n",
        "K_actual = model.coef_.reshape(1, -1)\n"
      ]
    },
    {
      "cell_type": "markdown",
      "metadata": {
        "id": "M7zG_6NT23fq"
      },
      "source": [
        "Save $\\mathbf{K}_{\\mathrm{actual}}$ in \"control-K-actual.tsv\" with the same format as \"control-K-intended.tsv\"."
      ]
    },
    {
      "cell_type": "code",
      "execution_count": 8,
      "metadata": {
        "id": "hPAaZI3M3DKB"
      },
      "outputs": [
        {
          "data": {
            "text/plain": [
              "'control-K-actual.tsv'"
            ]
          },
          "execution_count": 8,
          "metadata": {},
          "output_type": "execute_result"
        }
      ],
      "source": [
        "# YOUR CHANGES HERE\n",
        "K_actual_df = pd.DataFrame(K_actual, columns=[\"x\", \"v\", \"a\"])\n",
        "\n",
        "K_actual_final_path = \"control-K-actual.tsv\"\n",
        "K_actual_df.to_csv(K_actual_final_path, sep=\"\\t\", index=False)\n",
        "\n",
        "K_actual_final_path"
      ]
    },
    {
      "cell_type": "markdown",
      "metadata": {
        "id": "EFmODg3W3D2u"
      },
      "source": [
        "Submit \"control-k-actual.tsv\" in Gradescope."
      ]
    },
    {
      "cell_type": "markdown",
      "metadata": {
        "id": "wSuXyz6LAYjK"
      },
      "source": [
        "## Part 4: Recompute the System Dynamics from the Log Data\n",
        "\n",
        "On further investigation, it turns out that the control matrix $\\mathbf{K}$ in the prototype was modified to compensate for state prediction errors.\n",
        "You would like to recompute the $\\mathbf{A}$ and $\\mathbf{B}$ matrices using the log data since they are used to predict the next states.\n",
        "However, since the action vector $\\mathbf{u}_t$ is linearly dependent on the state via $\\mathbf{u}_t=-\\mathbf{K} \\mathbf{x}_t$, you need a new data set so you can separate the effects of the $\\mathbf{A}$ and $\\mathbf{B}$ matrices.\n",
        "Your co-workers kindly provide a new file \"qc-train.tsv\" where noise was added to each action.\n",
        "Estimate the true $\\mathbf{A}$ and $\\mathbf{B}$ matrices based on this file."
      ]
    },
    {
      "cell_type": "code",
      "execution_count": 9,
      "metadata": {
        "id": "13UYre915olG"
      },
      "outputs": [
        {
          "data": {
            "text/plain": [
              "['index', 'x', 'v', 'a', 'u']"
            ]
          },
          "execution_count": 9,
          "metadata": {},
          "output_type": "execute_result"
        }
      ],
      "source": [
        "# YOUR CHANGES HERE\n",
        "\n",
        "\n",
        "qc_train = pd.read_csv(\"qc-train.tsv\", sep=\"\\t\")\n",
        "\n",
        "qc_train.columns.tolist()"
      ]
    },
    {
      "cell_type": "code",
      "execution_count": 10,
      "metadata": {},
      "outputs": [],
      "source": [
        "\n",
        "# Prepare x_t, u_t, x_{t+1}\n",
        "X_t = qc_train[[\"x\", \"v\", \"a\"]].iloc[:-1].values  # current states\n",
        "U_t = qc_train[[\"u\"]].iloc[:-1].values            # current actions\n",
        "X_next = qc_train[[\"x\", \"v\", \"a\"]].iloc[1:].values  # next states\n",
        "\n",
        "# Combine [X_t, U_t] for regression\n",
        "Z = np.hstack([X_t, U_t])  # shape (n_samples, 4)\n",
        "\n",
        "# Fit for each next-state dimension separately (multivariate regression)\n",
        "model = LinearRegression(fit_intercept=False)\n",
        "model.fit(Z, X_next)\n",
        "\n",
        "# Extract coefficients\n",
        "coeffs = model.coef_  # shape (3, 4)\n",
        "A_new = coeffs[:, :3]\n",
        "B_new = coeffs[:, 3:].reshape(-1, 1)\n",
        "\n",
        "# Save results\n",
        "A_new_df = pd.DataFrame(A_new)\n",
        "B_new_df = pd.DataFrame(B_new)\n",
        "\n",
        "A_path = \"model-A-new.tsv\"\n",
        "B_path = \"model-B-new.tsv\"\n",
        "\n",
        "A_new_df.to_csv(A_path, sep=\"\\t\", header=False, index=False)\n",
        "B_new_df.to_csv(B_path, sep=\"\\t\", header=False, index=False)\n"
      ]
    },
    {
      "cell_type": "markdown",
      "metadata": {
        "id": "_Sxidkjb5phM"
      },
      "source": [
        "Save $\\mathbf{A}$ and $\\mathbf{B}$ to \"model-A-new.tsv\" and \"model-B-new.tsv\" respectively."
      ]
    },
    {
      "cell_type": "code",
      "execution_count": 12,
      "metadata": {
        "id": "LzcREdX_5pFS"
      },
      "outputs": [],
      "source": [
        "# YOUR CHANGES HERE\n",
        "\n",
        "A_new_df = pd.read_csv(\"model-A-new.tsv\", sep=\"\\t\", header=None)\n",
        "B_new_df = pd.read_csv(\"model-B-new.tsv\", sep=\"\\t\", header=None)\n",
        "\n",
        "# Assign column names x, v, a\n",
        "A_new_df.columns = [\"x\", \"v\", \"a\"]\n",
        "\n",
        "# Save again in same paths\n",
        "A_new_df.to_csv(\"model-A-new.tsv\", sep=\"\\t\", index=False)\n"
      ]
    },
    {
      "cell_type": "code",
      "execution_count": 13,
      "metadata": {},
      "outputs": [],
      "source": [
        "B_new_df = pd.read_csv(\"model-B-new.tsv\", sep=\"\\t\", header=0)\n",
        "\n",
        "B_new_df.columns = [\"u\"]\n",
        "B_new_df.insert(0, \"index\", range(len(B_new_df)))\n",
        "\n",
        "B_new_df.to_csv(\"model-B-new.tsv\", sep=\"\\t\", index=False)\n"
      ]
    },
    {
      "cell_type": "code",
      "execution_count": 14,
      "metadata": {},
      "outputs": [],
      "source": [
        "\n",
        "# Load training dataset\n",
        "qc_train = pd.read_csv(\"qc-train.tsv\", sep=\"\\t\")\n",
        "\n",
        "# Create consecutive pairs\n",
        "X_t = qc_train[[\"x\", \"v\", \"a\"]].iloc[:-1].values\n",
        "U_t = qc_train[[\"u\"]].iloc[:-1].values\n",
        "X_next = qc_train[[\"x\", \"v\", \"a\"]].iloc[1:].values\n",
        "\n",
        "# Fit model: X_next = [A B] * [X_t; U_t]\n",
        "Z = np.hstack([X_t, U_t])\n",
        "model = LinearRegression(fit_intercept=False)\n",
        "model.fit(Z, X_next)\n",
        "\n",
        "# Extract matrices\n",
        "coeffs = model.coef_\n",
        "A_new = coeffs[:, :3]\n",
        "B_new = coeffs[:, 3:].reshape(3, 1)\n",
        "\n",
        "# Build DataFrames\n",
        "A_new_df = pd.DataFrame(A_new, columns=[\"x\", \"v\", \"a\"])\n",
        "B_new_df = pd.DataFrame({\n",
        "    \"index\": [\"x\", \"v\", \"a\"],\n",
        "    \"u\": B_new.flatten()\n",
        "})\n",
        "\n",
        "# Save both matrices\n",
        "A_new_df.to_csv(\"model-A-new.tsv\", sep=\"\\t\", index=False)\n",
        "B_new_df.to_csv(\"model-B-new.tsv\", sep=\"\\t\", index=False)\n"
      ]
    },
    {
      "cell_type": "markdown",
      "metadata": {
        "id": "UNkBsDgD5vIn"
      },
      "source": [
        "Submit \"model-A-new.tsv\" and \"model-B-new.tsv\" in Gradescope."
      ]
    },
    {
      "cell_type": "markdown",
      "metadata": {
        "id": "smsTLuFcvR-I"
      },
      "source": [
        "## Part 5: Code\n",
        "\n",
        "Please submit a Jupyter notebook that can reproduce all your calculations and recreate the previously submitted files.\n",
        "You do not need to provide code for data collection if you did that by manually."
      ]
    },
    {
      "cell_type": "markdown",
      "metadata": {
        "id": "zi8lV2pbvWMs"
      },
      "source": [
        "## Part 6: Acknowledgements\n",
        "\n",
        "If you discussed this assignment with anyone, please acknowledge them here.\n",
        "If you did this assignment completely on your own, simply write none below.\n",
        "\n",
        "If you used any libraries not mentioned in this module's content, please list them with a brief explanation what you used them for. If you did not use any other libraries, simply write none below.\n",
        "\n",
        "If you used any generative AI tools, please add links to your transcripts below, and any other information that you feel is necessary to comply with the generative AI policy. If you did not use any generative AI tools, simply write none below."
      ]
    }
  ],
  "metadata": {
    "colab": {
      "toc_visible": false
    },
    "kernelspec": {
      "display_name": "Python 3",
      "name": "python3"
    },
    "language_info": {
      "codemirror_mode": {
        "name": "ipython",
        "version": 3
      },
      "file_extension": ".py",
      "mimetype": "text/x-python",
      "name": "python",
      "nbconvert_exporter": "python",
      "pygments_lexer": "ipython3",
      "version": "3.12.1"
    }
  },
  "nbformat": 4,
  "nbformat_minor": 0
}
